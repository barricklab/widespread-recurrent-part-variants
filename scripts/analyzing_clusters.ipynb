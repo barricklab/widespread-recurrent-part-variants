{
 "cells": [
  {
   "attachments": {},
   "cell_type": "markdown",
   "metadata": {},
   "source": [
    "Requires data generated from `analyzing_clusters.ipynb` and `analyzing_clusters.py` as well as `snapgene.fasta`."
   ]
  },
  {
   "cell_type": "code",
   "execution_count": null,
   "metadata": {},
   "outputs": [],
   "source": [
    "import numpy as np\n",
    "import plotly.express as px\n",
    "import pandas as pd\n",
    "from Bio import SeqIO\n",
    "from Bio.Seq import Seq\n",
    "from Bio import pairwise2\n",
    "\n",
    "df_list_full = pd.read_csv(\"../out_data/2022-08-03_full_plasmid_features_w_subgroups.csv\")\n"
   ]
  },
  {
   "cell_type": "code",
   "execution_count": 12,
   "metadata": {},
   "outputs": [],
   "source": [
    "\n",
    "# this data was generated from pairwise_idf.py\n",
    "final = pd.read_csv(\"../out_data/FINAL_idf_author_groups.csv\")\n",
    "final['is_para'] = final['auth_size'] > 1\n",
    "\n",
    "cols = ['sseqid','Type','Description','subgroup_id','auth_size','num_of_occurances_in_subgroup','num_of_unique_pis','sequence', 'is_silent_mutation', 'is_most_common']\n",
    "para = (final.loc[final['is_para'] == True,:]\n",
    "        [cols]\n",
    "        .drop_duplicates()\n",
    "        .sort_values(by = ['auth_size'], ascending = False)\n",
    "        )\n",
    "\n",
    "cols = ['sseqid','Type','Description','subgroup_id','num_of_occurances_in_subgroup','num_of_unique_pis','sequence', 'is_silent_mutation', 'is_most_common']\n",
    "lots_of_pis = df_list_full.query(\"num_of_unique_pis > 20\").query('is_canon_seq == False')[cols].drop_duplicates()"
   ]
  },
  {
   "cell_type": "code",
   "execution_count": 23,
   "metadata": {},
   "outputs": [
    {
     "name": "stderr",
     "output_type": "stream",
     "text": [
      "/Users/mmcguffi/opt/miniconda3/envs/goto/lib/python3.9/site-packages/Bio/Seq.py:2979: BiopythonWarning:\n",
      "\n",
      "Partial codon, len(sequence) not a multiple of three. Explicitly trim the sequence or add trailing N before translation. This may become an error in future.\n",
      "\n"
     ]
    }
   ],
   "source": [
    "#this also drops the SiriusGFP / Superfolder_GFP duplicates\n",
    "sg = list(SeqIO.parse(\"../in_data/snapgene.fasta\",\"fasta\"))\n",
    "\n",
    "# this method loses the auth_size info on the variants that have more than 20 PIs\n",
    "#variants_of_interest = lots_of_pis.append(para).drop_duplicates().drop_duplicates(subset=['sequence'])\n",
    "\n",
    "# this method collects that info, then fills all the rest with 1s\n",
    "# then I replaces 1s where we didnt do the computation with NaNs\n",
    "variants_of_interest = para.merge(lots_of_pis, how = 'outer').drop_duplicates(subset=para.columns.difference(['Description','sseqid']))\n",
    "variants_of_interest['auth_size'] = variants_of_interest['auth_size'].fillna(1)\n",
    "\n",
    "MAX_SUBGROUP_SIZE = 1205\n",
    "variants_of_interest['auth_size'] = np.where((variants_of_interest['num_of_occurances_in_subgroup'] > MAX_SUBGROUP_SIZE) &\n",
    "         (variants_of_interest['auth_size'] == 1), \n",
    "         np.nan, \n",
    "         variants_of_interest['auth_size'])\n",
    "\n",
    "\n",
    "variants_of_interest['tot_pis_sseqid'] = variants_of_interest.groupby('sseqid')['num_of_unique_pis'].transform('sum')\n",
    "\n",
    "def align(row):\n",
    "    variant = row['sequence'].lower()\n",
    "    try:\n",
    "        canon = str([_ for _ in sg if _.id == row['sseqid']][0].seq).lower()\n",
    "    except IndexError:\n",
    "        return None\n",
    "    alignment = pairwise2.align.globalms(variant, canon, 4, -1, -5, -1)[0]\n",
    "    align = \"\".join([\".\" if a==b else a.upper() if b == \"-\" else a for a,b, in zip(alignment.seqA, alignment.seqB)])\n",
    "    return align\n",
    "variants_of_interest['alignment'] = variants_of_interest.apply(align, axis = 1)\n",
    "\n",
    "def is_5_prime_del(alignment):\n",
    "    try:\n",
    "        return (alignment[0] == '-')\n",
    "    except TypeError:\n",
    "        return False\n",
    "def is_3_prime_del(alignment):\n",
    "    try:\n",
    "        return (alignment[-1] == '-')\n",
    "    except TypeError:\n",
    "        return False\n",
    "variants_of_interest['is_5_prime_del'] = variants_of_interest['alignment'].apply(is_5_prime_del)\n",
    "variants_of_interest['is_3_prime_del'] = variants_of_interest['alignment'].apply(is_3_prime_del)\n",
    "\n",
    "variants_of_interest['possible_fusion_protein'] = (((variants_of_interest['is_5_prime_del'] == True) | (variants_of_interest['is_3_prime_del'] == True)) & (variants_of_interest['Type'] == \"CDS\"))\n",
    "\n",
    "def translate_CDS(row):\n",
    "    if row['Type'] == \"CDS\":\n",
    "        seq = Seq(row['sequence']).replace(\"-\",\"\")\n",
    "        return str(seq.translate())\n",
    "    else:\n",
    "        return None\n",
    "\n",
    "variants_of_interest['translation'] = variants_of_interest.apply(translate_CDS, axis = 1)\n",
    "variants_of_interest[\"has_internal_stop_codon\"] = variants_of_interest['translation'].str[:-1].str.contains(\"\\*\")\n",
    "\n",
    "variants_of_interest = variants_of_interest.sort_values(by = ['possible_fusion_protein','tot_pis_sseqid','num_of_unique_pis'], ascending = [True,False,False])\n",
    "\n",
    "# filters out CDSs that have gaps on 3' or 5' end\n",
    "# these are likely to be fusion proteins, which we dont care about here\n",
    "variants_of_interest = variants_of_interest.query('((is_5_prime_del == False) & (is_3_prime_del == False)) | (Type != \"CDS\")').copy(deep=True)"
   ]
  },
  {
   "cell_type": "code",
   "execution_count": 24,
   "metadata": {},
   "outputs": [],
   "source": [
    "# this removes 2 edge cases where it doesnt align to the correct hit, and that hit is problematic anyway,\n",
    "# since it is not a 'coniguous' CDS\n",
    "snapgene = list(SeqIO.parse(\"../in_data/snapgene.fasta\", \"fasta\"))\n",
    "sg_desc = pd.read_csv(\"https://raw.githubusercontent.com/barricklab/pLannotate/master/plannotate/data/data/snapgene.csv\")\n",
    "sg = pd.DataFrame([(_.id, str(_.seq)) for _ in snapgene], columns=['sseqid','seq'])\n",
    "sg = sg.merge(sg_desc, on='sseqid', how='left')\n",
    "sg_cds = sg.loc[sg[\"Type\"] == 'CDS',:].copy(deep=True)\n",
    "sg_cds['translation'] = sg_cds['seq'].apply(lambda x: str(Seq(x).translate()))\n",
    "sg_cds['final_aa_pos'] = sg_cds['translation'].str[-1:]\n",
    "sg_cds['has_stop_codon'] = sg_cds['final_aa_pos'] == '*'\n",
    "sg_cds['has_internal_stop_codon'] = sg_cds['translation'].str[:-1].str.contains('\\*')\n",
    "\n",
    "sg_cds['trans_subgroup_id'] = sg_cds.groupby(['translation']).ngroup()\n",
    "sg_cds[\"trans_subgroup_id_size\"] = sg_cds.groupby(['trans_subgroup_id'])['trans_subgroup_id'].transform('size')\n",
    "\n",
    "problem_sseqids = sg_cds.query(\"has_internal_stop_codon == True\")['sseqid']\n",
    "\n",
    "sg_cds_dedup = sg_cds.sort_values(by=[\"trans_subgroup_id_size\",\"trans_subgroup_id\"], ascending=False).drop_duplicates(subset=['translation'])\n",
    "\n",
    "variants_of_interest = variants_of_interest.loc[~variants_of_interest['sseqid'].isin(problem_sseqids),:]"
   ]
  },
  {
   "cell_type": "code",
   "execution_count": 25,
   "metadata": {},
   "outputs": [],
   "source": [
    "# this uses the snapgene library to find silent mutations that were miscategorized as something else\n",
    "# eg: a dCas9 that was very similar in nucleotide sequence to WT Cas9 so it came up as a Cas9 hit\n",
    "# basically, this removes silent mutations that were miscategorized since the nuc. seq. is more similar\n",
    "# to a different sequence while the AA sequence is the same\n",
    "\n",
    "variants_of_interest['translation_no_stop'] = variants_of_interest['translation'].str.replace(\"*\",\"\", regex=False)\n",
    "sg_cds_dedup['translation_no_stop'] = sg_cds_dedup['translation'].str.replace(\"*\",\"\", regex=False)\n",
    "\n",
    "\n",
    "filtered = pd.read_csv(\"../out_data/2022-08-03_full_plasmid_features_w_subgroups_FILTERED.csv\")\n",
    "filtered = filtered.query(\"is_silent_mutation == False\").copy(deep=True)\n",
    "filtered_cds = filtered.query(\"Type == 'CDS'\").copy(deep=True)\n",
    "filtered_cds['translation'] = filtered_cds['sequence'].apply(lambda x: str(Seq(x.replace(\"-\",\"\")).translate()))\n",
    "filtered_cds['final_aa_pos'] = filtered_cds['translation'].str[-1:]\n",
    "filtered_cds['has_stop_codon'] = filtered_cds['final_aa_pos'] == '*'\n",
    "filtered_cds['has_internal_stop_codon'] = filtered_cds['translation'].str[:-1].str.contains('*', regex=False)\n",
    "filtered_cds['translation_no_stop'] = filtered_cds['translation'].str.replace(\"*\",\"\", regex=False)\n",
    "\n",
    "filtered_cds['translation_no_stop'] = filtered_cds['translation'].str.replace(\"*\",\"\", regex=False)\n",
    "other_silient_mut_subgroups = filtered_cds.merge(sg_cds_dedup, on='translation_no_stop', how='inner')['subgroup_id'].unique()\n",
    "\n",
    "variants_of_interest = variants_of_interest.loc[~variants_of_interest['subgroup_id'].isin(other_silient_mut_subgroups),:]\n"
   ]
  },
  {
   "cell_type": "code",
   "execution_count": 26,
   "metadata": {},
   "outputs": [],
   "source": [
    "variants_of_interest = variants_of_interest.query(\"is_silent_mutation == False\")"
   ]
  },
  {
   "cell_type": "code",
   "execution_count": 27,
   "metadata": {},
   "outputs": [
    {
     "data": {
      "text/html": [
       "<div>\n",
       "<style scoped>\n",
       "    .dataframe tbody tr th:only-of-type {\n",
       "        vertical-align: middle;\n",
       "    }\n",
       "\n",
       "    .dataframe tbody tr th {\n",
       "        vertical-align: top;\n",
       "    }\n",
       "\n",
       "    .dataframe thead th {\n",
       "        text-align: right;\n",
       "    }\n",
       "</style>\n",
       "<table border=\"1\" class=\"dataframe\">\n",
       "  <thead>\n",
       "    <tr style=\"text-align: right;\">\n",
       "      <th></th>\n",
       "      <th>sseqid</th>\n",
       "      <th>Type</th>\n",
       "      <th>Description</th>\n",
       "      <th>subgroup_id</th>\n",
       "      <th>auth_size</th>\n",
       "      <th>num_of_occurances_in_subgroup</th>\n",
       "      <th>num_of_unique_pis</th>\n",
       "      <th>sequence</th>\n",
       "      <th>is_silent_mutation</th>\n",
       "      <th>is_most_common</th>\n",
       "      <th>tot_pis_sseqid</th>\n",
       "      <th>alignment</th>\n",
       "      <th>is_5_prime_del</th>\n",
       "      <th>is_3_prime_del</th>\n",
       "      <th>possible_fusion_protein</th>\n",
       "      <th>translation</th>\n",
       "      <th>has_internal_stop_codon</th>\n",
       "      <th>translation_no_stop</th>\n",
       "    </tr>\n",
       "  </thead>\n",
       "  <tbody>\n",
       "    <tr>\n",
       "      <th>240</th>\n",
       "      <td>ori</td>\n",
       "      <td>rep_origin</td>\n",
       "      <td>high-copy-number ColE1/pMB1/pBR322/pUC origin ...</td>\n",
       "      <td>19505</td>\n",
       "      <td>NaN</td>\n",
       "      <td>38693</td>\n",
       "      <td>2955</td>\n",
       "      <td>TTGAGATCCTTTTTTTCTGCGCGTAATCTGCTGCTTGCAAACAAAA...</td>\n",
       "      <td>False</td>\n",
       "      <td>True</td>\n",
       "      <td>3288</td>\n",
       "      <td>.................................................</td>\n",
       "      <td>False</td>\n",
       "      <td>False</td>\n",
       "      <td>False</td>\n",
       "      <td>None</td>\n",
       "      <td>None</td>\n",
       "      <td>None</td>\n",
       "    </tr>\n",
       "    <tr>\n",
       "      <th>13</th>\n",
       "      <td>ori</td>\n",
       "      <td>rep_origin</td>\n",
       "      <td>high-copy-number ColE1/pMB1/pBR322/pUC origin ...</td>\n",
       "      <td>19366</td>\n",
       "      <td>4.0</td>\n",
       "      <td>154</td>\n",
       "      <td>64</td>\n",
       "      <td>TTGAGATCCTTTTTTTCTGCGCGTAATCTGCTGCTTGCAAACAAAA...</td>\n",
       "      <td>False</td>\n",
       "      <td>False</td>\n",
       "      <td>3288</td>\n",
       "      <td>.................................................</td>\n",
       "      <td>False</td>\n",
       "      <td>False</td>\n",
       "      <td>False</td>\n",
       "      <td>None</td>\n",
       "      <td>None</td>\n",
       "      <td>None</td>\n",
       "    </tr>\n",
       "    <tr>\n",
       "      <th>286</th>\n",
       "      <td>ori</td>\n",
       "      <td>rep_origin</td>\n",
       "      <td>high-copy-number ColE1/pMB1/pBR322/pUC origin ...</td>\n",
       "      <td>19406</td>\n",
       "      <td>1.0</td>\n",
       "      <td>221</td>\n",
       "      <td>39</td>\n",
       "      <td>TTGAGATCCTTTTTTTCTGCGCGTAATCTGCTGCTTGCAAACAAAA...</td>\n",
       "      <td>False</td>\n",
       "      <td>False</td>\n",
       "      <td>3288</td>\n",
       "      <td>.................................................</td>\n",
       "      <td>False</td>\n",
       "      <td>False</td>\n",
       "      <td>False</td>\n",
       "      <td>None</td>\n",
       "      <td>None</td>\n",
       "      <td>None</td>\n",
       "    </tr>\n",
       "    <tr>\n",
       "      <th>252</th>\n",
       "      <td>ori</td>\n",
       "      <td>rep_origin</td>\n",
       "      <td>high-copy-number ColE1/pMB1/pBR322/pUC origin ...</td>\n",
       "      <td>19507</td>\n",
       "      <td>1.0</td>\n",
       "      <td>439</td>\n",
       "      <td>35</td>\n",
       "      <td>TTGAGATCCTTTTTTTCTGCGCGTAATCTGCTGCTTGCAAACAAAA...</td>\n",
       "      <td>False</td>\n",
       "      <td>False</td>\n",
       "      <td>3288</td>\n",
       "      <td>.................................................</td>\n",
       "      <td>False</td>\n",
       "      <td>False</td>\n",
       "      <td>False</td>\n",
       "      <td>None</td>\n",
       "      <td>None</td>\n",
       "      <td>None</td>\n",
       "    </tr>\n",
       "    <tr>\n",
       "      <th>287</th>\n",
       "      <td>ori</td>\n",
       "      <td>rep_origin</td>\n",
       "      <td>high-copy-number ColE1/pMB1/pBR322/pUC origin ...</td>\n",
       "      <td>19390</td>\n",
       "      <td>1.0</td>\n",
       "      <td>168</td>\n",
       "      <td>22</td>\n",
       "      <td>TTGAGATCCTTTTTTTCTGCGCGTAATCTGCTGCTTGCAAACAAAA...</td>\n",
       "      <td>False</td>\n",
       "      <td>False</td>\n",
       "      <td>3288</td>\n",
       "      <td>.................................................</td>\n",
       "      <td>False</td>\n",
       "      <td>False</td>\n",
       "      <td>False</td>\n",
       "      <td>None</td>\n",
       "      <td>None</td>\n",
       "      <td>None</td>\n",
       "    </tr>\n",
       "    <tr>\n",
       "      <th>...</th>\n",
       "      <td>...</td>\n",
       "      <td>...</td>\n",
       "      <td>...</td>\n",
       "      <td>...</td>\n",
       "      <td>...</td>\n",
       "      <td>...</td>\n",
       "      <td>...</td>\n",
       "      <td>...</td>\n",
       "      <td>...</td>\n",
       "      <td>...</td>\n",
       "      <td>...</td>\n",
       "      <td>...</td>\n",
       "      <td>...</td>\n",
       "      <td>...</td>\n",
       "      <td>...</td>\n",
       "      <td>...</td>\n",
       "      <td>...</td>\n",
       "      <td>...</td>\n",
       "    </tr>\n",
       "    <tr>\n",
       "      <th>170</th>\n",
       "      <td>WPRE_(2)</td>\n",
       "      <td>misc_feature</td>\n",
       "      <td>woodchuck hepatitis virus posttranscriptional ...</td>\n",
       "      <td>486</td>\n",
       "      <td>2.0</td>\n",
       "      <td>8</td>\n",
       "      <td>2</td>\n",
       "      <td>AATCAACCTCTGGATTACAAAATTTGTGAAAGATTGACTGGTATTC...</td>\n",
       "      <td>False</td>\n",
       "      <td>False</td>\n",
       "      <td>2</td>\n",
       "      <td>.................................................</td>\n",
       "      <td>False</td>\n",
       "      <td>False</td>\n",
       "      <td>False</td>\n",
       "      <td>None</td>\n",
       "      <td>None</td>\n",
       "      <td>None</td>\n",
       "    </tr>\n",
       "    <tr>\n",
       "      <th>172</th>\n",
       "      <td>attB1</td>\n",
       "      <td>protein_bind</td>\n",
       "      <td>mutant version of attB; recombination site for...</td>\n",
       "      <td>571</td>\n",
       "      <td>2.0</td>\n",
       "      <td>18</td>\n",
       "      <td>2</td>\n",
       "      <td>ACAACTTTGTACAAAAAAGCAGGCT</td>\n",
       "      <td>False</td>\n",
       "      <td>False</td>\n",
       "      <td>2</td>\n",
       "      <td>....c....................</td>\n",
       "      <td>False</td>\n",
       "      <td>False</td>\n",
       "      <td>False</td>\n",
       "      <td>None</td>\n",
       "      <td>None</td>\n",
       "      <td>None</td>\n",
       "    </tr>\n",
       "    <tr>\n",
       "      <th>178</th>\n",
       "      <td>UbC_promoter_(2)</td>\n",
       "      <td>promoter</td>\n",
       "      <td>human ubiquitin C promoter</td>\n",
       "      <td>17179</td>\n",
       "      <td>2.0</td>\n",
       "      <td>4</td>\n",
       "      <td>2</td>\n",
       "      <td>GGCCTCCGCGCCGGGTTTTGGCGCCTCCCGCGGGCGCCCCCCTCCT...</td>\n",
       "      <td>False</td>\n",
       "      <td>False</td>\n",
       "      <td>2</td>\n",
       "      <td>.................................................</td>\n",
       "      <td>False</td>\n",
       "      <td>False</td>\n",
       "      <td>False</td>\n",
       "      <td>None</td>\n",
       "      <td>None</td>\n",
       "      <td>None</td>\n",
       "    </tr>\n",
       "    <tr>\n",
       "      <th>181</th>\n",
       "      <td>IRES_(3)</td>\n",
       "      <td>misc_feature</td>\n",
       "      <td>internal ribosome entry site (IRES) of the enc...</td>\n",
       "      <td>870</td>\n",
       "      <td>2.0</td>\n",
       "      <td>2</td>\n",
       "      <td>2</td>\n",
       "      <td>ACGTTACTGGCCGAAGCCGCTTGGAATAAGGCCGGTGTGCGTTTGT...</td>\n",
       "      <td>False</td>\n",
       "      <td>False</td>\n",
       "      <td>2</td>\n",
       "      <td>.................................................</td>\n",
       "      <td>False</td>\n",
       "      <td>False</td>\n",
       "      <td>False</td>\n",
       "      <td>None</td>\n",
       "      <td>None</td>\n",
       "      <td>None</td>\n",
       "    </tr>\n",
       "    <tr>\n",
       "      <th>216</th>\n",
       "      <td>Cj_gRNA_scaffold</td>\n",
       "      <td>misc_RNA</td>\n",
       "      <td>guide RNA scaffold for the Campylobacter jejun...</td>\n",
       "      <td>18261</td>\n",
       "      <td>2.0</td>\n",
       "      <td>2</td>\n",
       "      <td>2</td>\n",
       "      <td>GTTTTAGTCCCTGAA--GGGACTAAAATAAAGAGTTTGCGGGACTC...</td>\n",
       "      <td>False</td>\n",
       "      <td>True</td>\n",
       "      <td>2</td>\n",
       "      <td>...............--................................</td>\n",
       "      <td>False</td>\n",
       "      <td>False</td>\n",
       "      <td>False</td>\n",
       "      <td>None</td>\n",
       "      <td>None</td>\n",
       "      <td>None</td>\n",
       "    </tr>\n",
       "  </tbody>\n",
       "</table>\n",
       "<p>217 rows × 18 columns</p>\n",
       "</div>"
      ],
      "text/plain": [
       "               sseqid          Type  \\\n",
       "240               ori    rep_origin   \n",
       "13                ori    rep_origin   \n",
       "286               ori    rep_origin   \n",
       "252               ori    rep_origin   \n",
       "287               ori    rep_origin   \n",
       "..                ...           ...   \n",
       "170          WPRE_(2)  misc_feature   \n",
       "172             attB1  protein_bind   \n",
       "178  UbC_promoter_(2)      promoter   \n",
       "181          IRES_(3)  misc_feature   \n",
       "216  Cj_gRNA_scaffold      misc_RNA   \n",
       "\n",
       "                                           Description  subgroup_id  \\\n",
       "240  high-copy-number ColE1/pMB1/pBR322/pUC origin ...        19505   \n",
       "13   high-copy-number ColE1/pMB1/pBR322/pUC origin ...        19366   \n",
       "286  high-copy-number ColE1/pMB1/pBR322/pUC origin ...        19406   \n",
       "252  high-copy-number ColE1/pMB1/pBR322/pUC origin ...        19507   \n",
       "287  high-copy-number ColE1/pMB1/pBR322/pUC origin ...        19390   \n",
       "..                                                 ...          ...   \n",
       "170  woodchuck hepatitis virus posttranscriptional ...          486   \n",
       "172  mutant version of attB; recombination site for...          571   \n",
       "178                         human ubiquitin C promoter        17179   \n",
       "181  internal ribosome entry site (IRES) of the enc...          870   \n",
       "216  guide RNA scaffold for the Campylobacter jejun...        18261   \n",
       "\n",
       "     auth_size  num_of_occurances_in_subgroup  num_of_unique_pis  \\\n",
       "240        NaN                          38693               2955   \n",
       "13         4.0                            154                 64   \n",
       "286        1.0                            221                 39   \n",
       "252        1.0                            439                 35   \n",
       "287        1.0                            168                 22   \n",
       "..         ...                            ...                ...   \n",
       "170        2.0                              8                  2   \n",
       "172        2.0                             18                  2   \n",
       "178        2.0                              4                  2   \n",
       "181        2.0                              2                  2   \n",
       "216        2.0                              2                  2   \n",
       "\n",
       "                                              sequence  is_silent_mutation  \\\n",
       "240  TTGAGATCCTTTTTTTCTGCGCGTAATCTGCTGCTTGCAAACAAAA...               False   \n",
       "13   TTGAGATCCTTTTTTTCTGCGCGTAATCTGCTGCTTGCAAACAAAA...               False   \n",
       "286  TTGAGATCCTTTTTTTCTGCGCGTAATCTGCTGCTTGCAAACAAAA...               False   \n",
       "252  TTGAGATCCTTTTTTTCTGCGCGTAATCTGCTGCTTGCAAACAAAA...               False   \n",
       "287  TTGAGATCCTTTTTTTCTGCGCGTAATCTGCTGCTTGCAAACAAAA...               False   \n",
       "..                                                 ...                 ...   \n",
       "170  AATCAACCTCTGGATTACAAAATTTGTGAAAGATTGACTGGTATTC...               False   \n",
       "172                          ACAACTTTGTACAAAAAAGCAGGCT               False   \n",
       "178  GGCCTCCGCGCCGGGTTTTGGCGCCTCCCGCGGGCGCCCCCCTCCT...               False   \n",
       "181  ACGTTACTGGCCGAAGCCGCTTGGAATAAGGCCGGTGTGCGTTTGT...               False   \n",
       "216  GTTTTAGTCCCTGAA--GGGACTAAAATAAAGAGTTTGCGGGACTC...               False   \n",
       "\n",
       "     is_most_common  tot_pis_sseqid  \\\n",
       "240            True            3288   \n",
       "13            False            3288   \n",
       "286           False            3288   \n",
       "252           False            3288   \n",
       "287           False            3288   \n",
       "..              ...             ...   \n",
       "170           False               2   \n",
       "172           False               2   \n",
       "178           False               2   \n",
       "181           False               2   \n",
       "216            True               2   \n",
       "\n",
       "                                             alignment  is_5_prime_del  \\\n",
       "240  .................................................           False   \n",
       "13   .................................................           False   \n",
       "286  .................................................           False   \n",
       "252  .................................................           False   \n",
       "287  .................................................           False   \n",
       "..                                                 ...             ...   \n",
       "170  .................................................           False   \n",
       "172                          ....c....................           False   \n",
       "178  .................................................           False   \n",
       "181  .................................................           False   \n",
       "216  ...............--................................           False   \n",
       "\n",
       "     is_3_prime_del  possible_fusion_protein translation  \\\n",
       "240           False                    False        None   \n",
       "13            False                    False        None   \n",
       "286           False                    False        None   \n",
       "252           False                    False        None   \n",
       "287           False                    False        None   \n",
       "..              ...                      ...         ...   \n",
       "170           False                    False        None   \n",
       "172           False                    False        None   \n",
       "178           False                    False        None   \n",
       "181           False                    False        None   \n",
       "216           False                    False        None   \n",
       "\n",
       "    has_internal_stop_codon translation_no_stop  \n",
       "240                    None                None  \n",
       "13                     None                None  \n",
       "286                    None                None  \n",
       "252                    None                None  \n",
       "287                    None                None  \n",
       "..                      ...                 ...  \n",
       "170                    None                None  \n",
       "172                    None                None  \n",
       "178                    None                None  \n",
       "181                    None                None  \n",
       "216                    None                None  \n",
       "\n",
       "[217 rows x 18 columns]"
      ]
     },
     "execution_count": 27,
     "metadata": {},
     "output_type": "execute_result"
    }
   ],
   "source": [
    "variants_of_interest#.to_csv(\"../out_data/variants_of_interest_2022-08-18.csv\", index=False)"
   ]
  },
  {
   "attachments": {},
   "cell_type": "markdown",
   "metadata": {},
   "source": [
    "Added manual annotations (including header) to this the above csv file. It can be found in the supplementary data."
   ]
  },
  {
   "cell_type": "code",
   "execution_count": 4,
   "metadata": {},
   "outputs": [
    {
     "data": {
      "application/vnd.plotly.v1+json": {
       "config": {
        "plotlyServerURL": "https://plot.ly"
       },
       "data": [
        {
         "alignmentgroup": "True",
         "bingroup": "y",
         "hovertemplate": "Categorization Method=frequent<br>organism_type=bacteria<br>count=%{x}<br>Category=%{y}<extra></extra>",
         "legendgroup": "frequent",
         "marker": {
          "color": "#fcba03",
          "pattern": {
           "shape": ""
          }
         },
         "name": "frequent",
         "offsetgroup": "frequent",
         "orientation": "h",
         "showlegend": true,
         "type": "histogram",
         "xaxis": "x",
         "y": [
          "origin of replication",
          "origin of replication",
          "origin of replication",
          "origin of replication",
          "origin of replication",
          "origin of replication",
          "origin of replication",
          "origin of replication",
          "origin of replication",
          "origin of replication",
          "origin of replication",
          "origin of replication",
          "origin of replication",
          "promoter",
          "promoter",
          "promoter",
          "promoter",
          "antibiotic resistance",
          "antibiotic resistance",
          "antibiotic resistance",
          "antibiotic resistance",
          "antibiotic resistance",
          "antibiotic resistance",
          "antibiotic resistance",
          "antibiotic resistance",
          "misc.",
          "misc.",
          "misc.",
          "misc.",
          "misc.",
          "other regulatory",
          "other regulatory",
          "other regulatory",
          "RBS",
          "selection marker"
         ],
         "yaxis": "y"
        },
        {
         "alignmentgroup": "True",
         "bingroup": "y",
         "hovertemplate": "Categorization Method=frequent<br>organism_type=eukaryote<br>count=%{x}<br>Category=%{y}<extra></extra>",
         "legendgroup": "frequent",
         "marker": {
          "color": "#fcba03",
          "pattern": {
           "shape": ""
          }
         },
         "name": "frequent",
         "offsetgroup": "frequent",
         "orientation": "h",
         "showlegend": false,
         "type": "histogram",
         "xaxis": "x2",
         "y": [
          "promoter",
          "promoter",
          "promoter",
          "promoter",
          "promoter",
          "promoter",
          "promoter",
          "promoter",
          "promoter",
          "promoter",
          "promoter",
          "promoter",
          "promoter",
          "promoter",
          "promoter",
          "promoter",
          "promoter",
          "promoter",
          "promoter",
          "promoter",
          "promoter",
          "misc.",
          "misc.",
          "misc.",
          "misc.",
          "misc.",
          "other regulatory",
          "other regulatory",
          "other regulatory",
          "other regulatory",
          "recombination site",
          "terminator",
          "terminator",
          "recombination site",
          "selection marker"
         ],
         "yaxis": "y2"
        },
        {
         "alignmentgroup": "True",
         "bingroup": "y",
         "hovertemplate": "Categorization Method=frequent<br>organism_type=both<br>count=%{x}<br>Category=%{y}<extra></extra>",
         "legendgroup": "frequent",
         "marker": {
          "color": "#fcba03",
          "pattern": {
           "shape": ""
          }
         },
         "name": "frequent",
         "offsetgroup": "frequent",
         "orientation": "h",
         "showlegend": false,
         "type": "histogram",
         "xaxis": "x3",
         "y": [
          "antibiotic resistance",
          "misc.",
          "fluorophore",
          "recombination site",
          "recombination site"
         ],
         "yaxis": "y3"
        },
        {
         "alignmentgroup": "True",
         "bingroup": "y",
         "hovertemplate": "Categorization Method=convergent<br>organism_type=bacteria<br>count=%{x}<br>Category=%{y}<extra></extra>",
         "legendgroup": "convergent",
         "marker": {
          "color": "#7795FF",
          "pattern": {
           "shape": ""
          }
         },
         "name": "convergent",
         "offsetgroup": "convergent",
         "orientation": "h",
         "showlegend": true,
         "type": "histogram",
         "xaxis": "x",
         "y": [
          "origin of replication",
          "origin of replication",
          "origin of replication",
          "origin of replication",
          "origin of replication",
          "origin of replication",
          "origin of replication",
          "origin of replication",
          "origin of replication",
          "origin of replication",
          "origin of replication",
          "origin of replication",
          "origin of replication",
          "origin of replication",
          "origin of replication",
          "origin of replication",
          "origin of replication",
          "origin of replication",
          "origin of replication",
          "origin of replication",
          "origin of replication",
          "origin of replication",
          "origin of replication",
          "origin of replication",
          "origin of replication",
          "origin of replication",
          "origin of replication",
          "origin of replication",
          "origin of replication",
          "origin of replication",
          "origin of replication",
          "origin of replication",
          "origin of replication",
          "origin of replication",
          "origin of replication",
          "origin of replication",
          "origin of replication",
          "origin of replication",
          "origin of replication",
          "origin of replication",
          "origin of replication",
          "origin of replication",
          "origin of replication",
          "origin of replication",
          "origin of replication",
          "origin of replication",
          "origin of replication",
          "promoter",
          "promoter",
          "promoter",
          "promoter",
          "promoter",
          "promoter",
          "antibiotic resistance",
          "antibiotic resistance",
          "antibiotic resistance",
          "antibiotic resistance",
          "antibiotic resistance",
          "antibiotic resistance",
          "antibiotic resistance",
          "antibiotic resistance",
          "antibiotic resistance",
          "antibiotic resistance",
          "antibiotic resistance",
          "antibiotic resistance",
          "misc.",
          "other regulatory",
          "other regulatory",
          "other regulatory",
          "other regulatory",
          "other regulatory",
          "other regulatory",
          "other regulatory",
          "terminator",
          "terminator",
          "terminator",
          "terminator"
         ],
         "yaxis": "y"
        },
        {
         "alignmentgroup": "True",
         "bingroup": "y",
         "hovertemplate": "Categorization Method=convergent<br>organism_type=eukaryote<br>count=%{x}<br>Category=%{y}<extra></extra>",
         "legendgroup": "convergent",
         "marker": {
          "color": "#7795FF",
          "pattern": {
           "shape": ""
          }
         },
         "name": "convergent",
         "offsetgroup": "convergent",
         "orientation": "h",
         "showlegend": false,
         "type": "histogram",
         "xaxis": "x2",
         "y": [
          "origin of replication",
          "promoter",
          "promoter",
          "promoter",
          "promoter",
          "promoter",
          "promoter",
          "promoter",
          "promoter",
          "promoter",
          "promoter",
          "promoter",
          "promoter",
          "promoter",
          "promoter",
          "misc.",
          "other regulatory",
          "other regulatory",
          "other regulatory",
          "other regulatory",
          "RBS",
          "RBS",
          "RBS",
          "RBS",
          "RBS",
          "RBS",
          "RBS",
          "RBS",
          "RBS",
          "RBS",
          "RBS",
          "RBS",
          "terminator",
          "polyA signal",
          "polyA signal",
          "polyA signal",
          "polyA signal",
          "polyA signal",
          "polyA signal"
         ],
         "yaxis": "y2"
        },
        {
         "alignmentgroup": "True",
         "bingroup": "y",
         "hovertemplate": "Categorization Method=convergent<br>organism_type=both<br>count=%{x}<br>Category=%{y}<extra></extra>",
         "legendgroup": "convergent",
         "marker": {
          "color": "#7795FF",
          "pattern": {
           "shape": ""
          }
         },
         "name": "convergent",
         "offsetgroup": "convergent",
         "orientation": "h",
         "showlegend": false,
         "type": "histogram",
         "xaxis": "x3",
         "y": [
          "misc.",
          "misc.",
          "misc.",
          "misc.",
          "misc.",
          "misc.",
          "misc.",
          "fluorophore",
          "fluorophore",
          "fluorophore",
          "fluorophore",
          "fluorophore",
          "fluorophore",
          "fluorophore",
          "fluorophore",
          "fluorophore",
          "fluorophore",
          "fluorophore",
          "fluorophore",
          "fluorophore",
          "fluorophore",
          "fluorophore",
          "fluorophore",
          "recombination site",
          "recombination site",
          "recombination site"
         ],
         "yaxis": "y3"
        }
       ],
       "layout": {
        "annotations": [
         {
          "font": {
           "size": 16
          },
          "showarrow": false,
          "text": "<b>bacteria</b>",
          "x": 0.15999999999999998,
          "xanchor": "center",
          "xref": "paper",
          "y": 1,
          "yanchor": "bottom",
          "yref": "paper"
         },
         {
          "font": {
           "size": 16
          },
          "showarrow": false,
          "text": "<b>eukaryote</b>",
          "x": 0.49999999999999994,
          "xanchor": "center",
          "xref": "paper",
          "y": 1,
          "yanchor": "bottom",
          "yref": "paper"
         },
         {
          "font": {
           "size": 16
          },
          "showarrow": false,
          "text": "<b>both</b>",
          "x": 0.8399999999999999,
          "xanchor": "center",
          "xref": "paper",
          "y": 1,
          "yanchor": "bottom",
          "yref": "paper"
         }
        ],
        "barmode": "stack",
        "height": 375,
        "legend": {
         "title": {
          "text": "Categorization Method"
         },
         "tracegroupgap": 0
        },
        "margin": {
         "t": 60
        },
        "template": {
         "data": {
          "bar": [
           {
            "error_x": {
             "color": "#2a3f5f"
            },
            "error_y": {
             "color": "#2a3f5f"
            },
            "marker": {
             "line": {
              "color": "white",
              "width": 0.5
             },
             "pattern": {
              "fillmode": "overlay",
              "size": 10,
              "solidity": 0.2
             }
            },
            "type": "bar"
           }
          ],
          "barpolar": [
           {
            "marker": {
             "line": {
              "color": "white",
              "width": 0.5
             },
             "pattern": {
              "fillmode": "overlay",
              "size": 10,
              "solidity": 0.2
             }
            },
            "type": "barpolar"
           }
          ],
          "carpet": [
           {
            "aaxis": {
             "endlinecolor": "#2a3f5f",
             "gridcolor": "#C8D4E3",
             "linecolor": "#C8D4E3",
             "minorgridcolor": "#C8D4E3",
             "startlinecolor": "#2a3f5f"
            },
            "baxis": {
             "endlinecolor": "#2a3f5f",
             "gridcolor": "#C8D4E3",
             "linecolor": "#C8D4E3",
             "minorgridcolor": "#C8D4E3",
             "startlinecolor": "#2a3f5f"
            },
            "type": "carpet"
           }
          ],
          "choropleth": [
           {
            "colorbar": {
             "outlinewidth": 0,
             "ticks": ""
            },
            "type": "choropleth"
           }
          ],
          "contour": [
           {
            "colorbar": {
             "outlinewidth": 0,
             "ticks": ""
            },
            "colorscale": [
             [
              0,
              "#0d0887"
             ],
             [
              0.1111111111111111,
              "#46039f"
             ],
             [
              0.2222222222222222,
              "#7201a8"
             ],
             [
              0.3333333333333333,
              "#9c179e"
             ],
             [
              0.4444444444444444,
              "#bd3786"
             ],
             [
              0.5555555555555556,
              "#d8576b"
             ],
             [
              0.6666666666666666,
              "#ed7953"
             ],
             [
              0.7777777777777778,
              "#fb9f3a"
             ],
             [
              0.8888888888888888,
              "#fdca26"
             ],
             [
              1,
              "#f0f921"
             ]
            ],
            "type": "contour"
           }
          ],
          "contourcarpet": [
           {
            "colorbar": {
             "outlinewidth": 0,
             "ticks": ""
            },
            "type": "contourcarpet"
           }
          ],
          "heatmap": [
           {
            "colorbar": {
             "outlinewidth": 0,
             "ticks": ""
            },
            "colorscale": [
             [
              0,
              "#0d0887"
             ],
             [
              0.1111111111111111,
              "#46039f"
             ],
             [
              0.2222222222222222,
              "#7201a8"
             ],
             [
              0.3333333333333333,
              "#9c179e"
             ],
             [
              0.4444444444444444,
              "#bd3786"
             ],
             [
              0.5555555555555556,
              "#d8576b"
             ],
             [
              0.6666666666666666,
              "#ed7953"
             ],
             [
              0.7777777777777778,
              "#fb9f3a"
             ],
             [
              0.8888888888888888,
              "#fdca26"
             ],
             [
              1,
              "#f0f921"
             ]
            ],
            "type": "heatmap"
           }
          ],
          "heatmapgl": [
           {
            "colorbar": {
             "outlinewidth": 0,
             "ticks": ""
            },
            "colorscale": [
             [
              0,
              "#0d0887"
             ],
             [
              0.1111111111111111,
              "#46039f"
             ],
             [
              0.2222222222222222,
              "#7201a8"
             ],
             [
              0.3333333333333333,
              "#9c179e"
             ],
             [
              0.4444444444444444,
              "#bd3786"
             ],
             [
              0.5555555555555556,
              "#d8576b"
             ],
             [
              0.6666666666666666,
              "#ed7953"
             ],
             [
              0.7777777777777778,
              "#fb9f3a"
             ],
             [
              0.8888888888888888,
              "#fdca26"
             ],
             [
              1,
              "#f0f921"
             ]
            ],
            "type": "heatmapgl"
           }
          ],
          "histogram": [
           {
            "marker": {
             "pattern": {
              "fillmode": "overlay",
              "size": 10,
              "solidity": 0.2
             }
            },
            "type": "histogram"
           }
          ],
          "histogram2d": [
           {
            "colorbar": {
             "outlinewidth": 0,
             "ticks": ""
            },
            "colorscale": [
             [
              0,
              "#0d0887"
             ],
             [
              0.1111111111111111,
              "#46039f"
             ],
             [
              0.2222222222222222,
              "#7201a8"
             ],
             [
              0.3333333333333333,
              "#9c179e"
             ],
             [
              0.4444444444444444,
              "#bd3786"
             ],
             [
              0.5555555555555556,
              "#d8576b"
             ],
             [
              0.6666666666666666,
              "#ed7953"
             ],
             [
              0.7777777777777778,
              "#fb9f3a"
             ],
             [
              0.8888888888888888,
              "#fdca26"
             ],
             [
              1,
              "#f0f921"
             ]
            ],
            "type": "histogram2d"
           }
          ],
          "histogram2dcontour": [
           {
            "colorbar": {
             "outlinewidth": 0,
             "ticks": ""
            },
            "colorscale": [
             [
              0,
              "#0d0887"
             ],
             [
              0.1111111111111111,
              "#46039f"
             ],
             [
              0.2222222222222222,
              "#7201a8"
             ],
             [
              0.3333333333333333,
              "#9c179e"
             ],
             [
              0.4444444444444444,
              "#bd3786"
             ],
             [
              0.5555555555555556,
              "#d8576b"
             ],
             [
              0.6666666666666666,
              "#ed7953"
             ],
             [
              0.7777777777777778,
              "#fb9f3a"
             ],
             [
              0.8888888888888888,
              "#fdca26"
             ],
             [
              1,
              "#f0f921"
             ]
            ],
            "type": "histogram2dcontour"
           }
          ],
          "mesh3d": [
           {
            "colorbar": {
             "outlinewidth": 0,
             "ticks": ""
            },
            "type": "mesh3d"
           }
          ],
          "parcoords": [
           {
            "line": {
             "colorbar": {
              "outlinewidth": 0,
              "ticks": ""
             }
            },
            "type": "parcoords"
           }
          ],
          "pie": [
           {
            "automargin": true,
            "type": "pie"
           }
          ],
          "scatter": [
           {
            "marker": {
             "colorbar": {
              "outlinewidth": 0,
              "ticks": ""
             }
            },
            "type": "scatter"
           }
          ],
          "scatter3d": [
           {
            "line": {
             "colorbar": {
              "outlinewidth": 0,
              "ticks": ""
             }
            },
            "marker": {
             "colorbar": {
              "outlinewidth": 0,
              "ticks": ""
             }
            },
            "type": "scatter3d"
           }
          ],
          "scattercarpet": [
           {
            "marker": {
             "colorbar": {
              "outlinewidth": 0,
              "ticks": ""
             }
            },
            "type": "scattercarpet"
           }
          ],
          "scattergeo": [
           {
            "marker": {
             "colorbar": {
              "outlinewidth": 0,
              "ticks": ""
             }
            },
            "type": "scattergeo"
           }
          ],
          "scattergl": [
           {
            "marker": {
             "colorbar": {
              "outlinewidth": 0,
              "ticks": ""
             }
            },
            "type": "scattergl"
           }
          ],
          "scattermapbox": [
           {
            "marker": {
             "colorbar": {
              "outlinewidth": 0,
              "ticks": ""
             }
            },
            "type": "scattermapbox"
           }
          ],
          "scatterpolar": [
           {
            "marker": {
             "colorbar": {
              "outlinewidth": 0,
              "ticks": ""
             }
            },
            "type": "scatterpolar"
           }
          ],
          "scatterpolargl": [
           {
            "marker": {
             "colorbar": {
              "outlinewidth": 0,
              "ticks": ""
             }
            },
            "type": "scatterpolargl"
           }
          ],
          "scatterternary": [
           {
            "marker": {
             "colorbar": {
              "outlinewidth": 0,
              "ticks": ""
             }
            },
            "type": "scatterternary"
           }
          ],
          "surface": [
           {
            "colorbar": {
             "outlinewidth": 0,
             "ticks": ""
            },
            "colorscale": [
             [
              0,
              "#0d0887"
             ],
             [
              0.1111111111111111,
              "#46039f"
             ],
             [
              0.2222222222222222,
              "#7201a8"
             ],
             [
              0.3333333333333333,
              "#9c179e"
             ],
             [
              0.4444444444444444,
              "#bd3786"
             ],
             [
              0.5555555555555556,
              "#d8576b"
             ],
             [
              0.6666666666666666,
              "#ed7953"
             ],
             [
              0.7777777777777778,
              "#fb9f3a"
             ],
             [
              0.8888888888888888,
              "#fdca26"
             ],
             [
              1,
              "#f0f921"
             ]
            ],
            "type": "surface"
           }
          ],
          "table": [
           {
            "cells": {
             "fill": {
              "color": "#EBF0F8"
             },
             "line": {
              "color": "white"
             }
            },
            "header": {
             "fill": {
              "color": "#C8D4E3"
             },
             "line": {
              "color": "white"
             }
            },
            "type": "table"
           }
          ]
         },
         "layout": {
          "annotationdefaults": {
           "arrowcolor": "#2a3f5f",
           "arrowhead": 0,
           "arrowwidth": 1
          },
          "autotypenumbers": "strict",
          "coloraxis": {
           "colorbar": {
            "outlinewidth": 0,
            "ticks": ""
           }
          },
          "colorscale": {
           "diverging": [
            [
             0,
             "#8e0152"
            ],
            [
             0.1,
             "#c51b7d"
            ],
            [
             0.2,
             "#de77ae"
            ],
            [
             0.3,
             "#f1b6da"
            ],
            [
             0.4,
             "#fde0ef"
            ],
            [
             0.5,
             "#f7f7f7"
            ],
            [
             0.6,
             "#e6f5d0"
            ],
            [
             0.7,
             "#b8e186"
            ],
            [
             0.8,
             "#7fbc41"
            ],
            [
             0.9,
             "#4d9221"
            ],
            [
             1,
             "#276419"
            ]
           ],
           "sequential": [
            [
             0,
             "#0d0887"
            ],
            [
             0.1111111111111111,
             "#46039f"
            ],
            [
             0.2222222222222222,
             "#7201a8"
            ],
            [
             0.3333333333333333,
             "#9c179e"
            ],
            [
             0.4444444444444444,
             "#bd3786"
            ],
            [
             0.5555555555555556,
             "#d8576b"
            ],
            [
             0.6666666666666666,
             "#ed7953"
            ],
            [
             0.7777777777777778,
             "#fb9f3a"
            ],
            [
             0.8888888888888888,
             "#fdca26"
            ],
            [
             1,
             "#f0f921"
            ]
           ],
           "sequentialminus": [
            [
             0,
             "#0d0887"
            ],
            [
             0.1111111111111111,
             "#46039f"
            ],
            [
             0.2222222222222222,
             "#7201a8"
            ],
            [
             0.3333333333333333,
             "#9c179e"
            ],
            [
             0.4444444444444444,
             "#bd3786"
            ],
            [
             0.5555555555555556,
             "#d8576b"
            ],
            [
             0.6666666666666666,
             "#ed7953"
            ],
            [
             0.7777777777777778,
             "#fb9f3a"
            ],
            [
             0.8888888888888888,
             "#fdca26"
            ],
            [
             1,
             "#f0f921"
            ]
           ]
          },
          "colorway": [
           "#636efa",
           "#EF553B",
           "#00cc96",
           "#ab63fa",
           "#FFA15A",
           "#19d3f3",
           "#FF6692",
           "#B6E880",
           "#FF97FF",
           "#FECB52"
          ],
          "font": {
           "color": "#2a3f5f"
          },
          "geo": {
           "bgcolor": "white",
           "lakecolor": "white",
           "landcolor": "white",
           "showlakes": true,
           "showland": true,
           "subunitcolor": "#C8D4E3"
          },
          "hoverlabel": {
           "align": "left"
          },
          "hovermode": "closest",
          "mapbox": {
           "style": "light"
          },
          "paper_bgcolor": "white",
          "plot_bgcolor": "white",
          "polar": {
           "angularaxis": {
            "gridcolor": "#EBF0F8",
            "linecolor": "#EBF0F8",
            "ticks": ""
           },
           "bgcolor": "white",
           "radialaxis": {
            "gridcolor": "#EBF0F8",
            "linecolor": "#EBF0F8",
            "ticks": ""
           }
          },
          "scene": {
           "xaxis": {
            "backgroundcolor": "white",
            "gridcolor": "#DFE8F3",
            "gridwidth": 2,
            "linecolor": "#EBF0F8",
            "showbackground": true,
            "ticks": "",
            "zerolinecolor": "#EBF0F8"
           },
           "yaxis": {
            "backgroundcolor": "white",
            "gridcolor": "#DFE8F3",
            "gridwidth": 2,
            "linecolor": "#EBF0F8",
            "showbackground": true,
            "ticks": "",
            "zerolinecolor": "#EBF0F8"
           },
           "zaxis": {
            "backgroundcolor": "white",
            "gridcolor": "#DFE8F3",
            "gridwidth": 2,
            "linecolor": "#EBF0F8",
            "showbackground": true,
            "ticks": "",
            "zerolinecolor": "#EBF0F8"
           }
          },
          "shapedefaults": {
           "line": {
            "color": "#2a3f5f"
           }
          },
          "ternary": {
           "aaxis": {
            "gridcolor": "#DFE8F3",
            "linecolor": "#A2B1C6",
            "ticks": ""
           },
           "baxis": {
            "gridcolor": "#DFE8F3",
            "linecolor": "#A2B1C6",
            "ticks": ""
           },
           "bgcolor": "white",
           "caxis": {
            "gridcolor": "#DFE8F3",
            "linecolor": "#A2B1C6",
            "ticks": ""
           }
          },
          "title": {
           "x": 0.05
          },
          "xaxis": {
           "automargin": true,
           "gridcolor": "#EBF0F8",
           "linecolor": "#EBF0F8",
           "ticks": "",
           "title": {
            "standoff": 15
           },
           "zerolinecolor": "#EBF0F8",
           "zerolinewidth": 2
          },
          "yaxis": {
           "automargin": true,
           "gridcolor": "#EBF0F8",
           "linecolor": "#EBF0F8",
           "ticks": "",
           "title": {
            "standoff": 15
           },
           "zerolinecolor": "#EBF0F8",
           "zerolinewidth": 2
          }
         }
        },
        "width": 1000,
        "xaxis": {
         "anchor": "y",
         "domain": [
          0,
          0.31999999999999995
         ],
         "title": {
          "text": "Number of Variants"
         }
        },
        "xaxis2": {
         "anchor": "y2",
         "domain": [
          0.33999999999999997,
          0.6599999999999999
         ],
         "matches": "x",
         "title": {
          "text": "Number of Variants"
         }
        },
        "xaxis3": {
         "anchor": "y3",
         "domain": [
          0.6799999999999999,
          0.9999999999999999
         ],
         "matches": "x",
         "title": {
          "text": "Number of Variants"
         }
        },
        "yaxis": {
         "anchor": "x",
         "domain": [
          0,
          1
         ],
         "title": {
          "text": "Category"
         }
        },
        "yaxis2": {
         "anchor": "x2",
         "domain": [
          0,
          1
         ],
         "matches": "y",
         "showticklabels": false
        },
        "yaxis3": {
         "anchor": "x3",
         "domain": [
          0,
          1
         ],
         "matches": "y",
         "showticklabels": false
        }
       }
      }
     },
     "metadata": {},
     "output_type": "display_data"
    }
   ],
   "source": [
    "import pandas as pd\n",
    "import plotly.express as px\n",
    "\n",
    "voi = pd.read_csv(\"../out_data/variants_of_interest_2023-02-14_annotated.csv\")\n",
    "\n",
    "#both = ((voi['num_of_unique_pis'] >= 20) & (voi['auth_size'] > 1)).replace({True: \"both\", False: \"\"})\n",
    "convergent = ((voi['num_of_unique_pis'] < 20)  & (voi['auth_size'] > 1)).replace({True: \"convergent\", False: \"\"})\n",
    "# frequent_analyzed   = ((voi['num_of_unique_pis'] > 20)  & (voi['auth_size'] == 1)).replace({True: \"frequent_only\", False: \"\"})\n",
    "# frequent_unanalyzed = ((voi['num_of_unique_pis'] > 20)  & (voi['auth_size'].isna())).replace({True: \"frequent_unanalyzed\", False: \"\"})\n",
    "frequent = (voi['num_of_unique_pis'] >= 20).replace({True: \"frequent\", False: \"\"})\n",
    "\n",
    "\n",
    "voi['categorization_method'] = convergent + frequent #+ frequent_unanalyzed\n",
    "voi['categorization_method'] = voi['categorization_method'].replace({\"both\": \"convergent\"})\n",
    "\n",
    "voi['category_size'] = voi.groupby(['category'])['category'].transform('size')\n",
    "voi = voi.sort_values(by=['category_size'], ascending=[False])\n",
    "\n",
    "fig = px.histogram(voi, \n",
    "             y=\"category\", \n",
    "             color='categorization_method',\n",
    "             template='plotly_white',\n",
    "             hover_data=['category_size'],\n",
    "             color_discrete_sequence=['#fcba03','#7795FF','#AEFF91'], #'#FDD35D'\n",
    "             barmode='stack',\n",
    "             facet_col='organism_type',\n",
    "             labels={'category': 'Category', \n",
    "                     'categorization_method': 'Categorization Method', \n",
    "                     },\n",
    "             width=1000,\n",
    "             height=375,\n",
    "             )\n",
    "fig.for_each_annotation(lambda a: a.update(text=a.text.split(\"=\")[1]))\n",
    "\n",
    "x_axis_label = 'Number of Variants'\n",
    "fig['layout']['xaxis']['title']['text']  = x_axis_label\n",
    "fig['layout']['xaxis2']['title']['text'] = x_axis_label\n",
    "fig['layout']['xaxis3']['title']['text'] = x_axis_label\n",
    "\n",
    "fig.for_each_annotation(lambda a: a.update(text=f'<b>{a.text}</b>'))\n",
    "fig.update_annotations(font=dict( size=16))\n",
    "\n",
    "# fig.write_image(\"../out_data/figures/voi_organism_method.svg\")\n",
    "fig"
   ]
  },
  {
   "cell_type": "code",
   "execution_count": 204,
   "metadata": {},
   "outputs": [
    {
     "data": {
      "application/vnd.plotly.v1+json": {
       "config": {
        "plotlyServerURL": "https://plot.ly"
       },
       "data": [
        {
         "alignmentgroup": "True",
         "bingroup": "x",
         "histfunc": "sum",
         "hovertemplate": "category=origin of replication<br>Part name=%{x}<br>sum of Number of interesting variants=%{y}<extra></extra>",
         "legendgroup": "origin of replication",
         "marker": {
          "color": "#636efa",
          "pattern": {
           "shape": ""
          }
         },
         "name": "origin of replication",
         "offsetgroup": "origin of replication",
         "orientation": "v",
         "showlegend": true,
         "type": "histogram",
         "x": [
          "ColE1 origin of replication",
          "f1 ori",
          "pBBR1 oriV",
          "Rep101",
          "oriT",
          "Rep101(Ts)",
          "f1 ori",
          "p15A ori",
          "CEN ARS"
         ],
         "xaxis": "x",
         "y": [
          49,
          5,
          1,
          1,
          1,
          1,
          1,
          1,
          1
         ],
         "yaxis": "y"
        },
        {
         "alignmentgroup": "True",
         "bingroup": "x",
         "histfunc": "sum",
         "hovertemplate": "category=antibiotic resistance<br>Part name=%{x}<br>sum of Number of interesting variants=%{y}<extra></extra>",
         "legendgroup": "antibiotic resistance",
         "marker": {
          "color": "#EF553B",
          "pattern": {
           "shape": ""
          }
         },
         "name": "antibiotic resistance",
         "offsetgroup": "antibiotic resistance",
         "orientation": "v",
         "showlegend": true,
         "type": "histogram",
         "x": [
          "AmpR",
          "NeoR KanR",
          "GmR",
          "SmR",
          "HygR",
          "NeoR KanR",
          "CmR"
         ],
         "xaxis": "x",
         "y": [
          11,
          4,
          2,
          1,
          1,
          1,
          1
         ],
         "yaxis": "y"
        },
        {
         "alignmentgroup": "True",
         "bingroup": "x",
         "histfunc": "sum",
         "hovertemplate": "category=RBS<br>Part name=%{x}<br>sum of Number of interesting variants=%{y}<extra></extra>",
         "legendgroup": "RBS",
         "marker": {
          "color": "#00cc96",
          "pattern": {
           "shape": ""
          }
         },
         "name": "RBS",
         "offsetgroup": "RBS",
         "orientation": "v",
         "showlegend": true,
         "type": "histogram",
         "x": [
          "IRES2",
          "IRES",
          "RBS",
          "IRES",
          "IRES"
         ],
         "xaxis": "x",
         "y": [
          7,
          3,
          1,
          1,
          1
         ],
         "yaxis": "y"
        },
        {
         "alignmentgroup": "True",
         "bingroup": "x",
         "histfunc": "sum",
         "hovertemplate": "category=promoter<br>Part name=%{x}<br>sum of Number of interesting variants=%{y}<extra></extra>",
         "legendgroup": "promoter",
         "marker": {
          "color": "#ab63fa",
          "pattern": {
           "shape": ""
          }
         },
         "name": "promoter",
         "offsetgroup": "promoter",
         "orientation": "v",
         "showlegend": true,
         "type": "histogram",
         "x": [
          "chicken beta actin promoter",
          "AmpR promoter",
          "U6 promoter",
          "SV40 promoter",
          "EF 1 alpha core promoter",
          "CaMV promoter",
          "CMV promoter",
          "minimal CaMV promoter",
          "PGK promoter",
          "UbC promoter",
          "AmpR promoter",
          "rhaB promoter",
          "UbC promoter",
          "CaMV promoter (enhanced)",
          "UbC promoter",
          "CMV IE94 promoter",
          "AmpR promoter",
          "cat promoter",
          "minimal CMV promoter",
          "lac promoter",
          "EF 1 alpha promoter",
          "tetR tetA promoters",
          "NOS promoter",
          "LEU2 promoter",
          "SV40 promoter",
          "SV40 promoter"
         ],
         "xaxis": "x",
         "y": [
          7,
          4,
          3,
          3,
          3,
          2,
          2,
          2,
          2,
          1,
          1,
          1,
          1,
          1,
          1,
          1,
          1,
          1,
          1,
          1,
          1,
          1,
          1,
          1,
          1,
          1
         ],
         "yaxis": "y"
        },
        {
         "alignmentgroup": "True",
         "bingroup": "x",
         "histfunc": "sum",
         "hovertemplate": "category=other regulatory<br>Part name=%{x}<br>sum of Number of interesting variants=%{y}<extra></extra>",
         "legendgroup": "other regulatory",
         "marker": {
          "color": "#FFA15A",
          "pattern": {
           "shape": ""
          }
         },
         "name": "other regulatory",
         "offsetgroup": "other regulatory",
         "orientation": "v",
         "showlegend": true,
         "type": "histogram",
         "x": [
          "lacI",
          "CMV enhancer",
          "CAP binding site",
          "WPRE",
          "HSV TK poly(A) signal",
          "CMV enhancer",
          "WPRE"
         ],
         "xaxis": "x",
         "y": [
          5,
          4,
          4,
          2,
          1,
          1,
          1
         ],
         "yaxis": "y"
        },
        {
         "alignmentgroup": "True",
         "bingroup": "x",
         "histfunc": "sum",
         "hovertemplate": "category=fluorophore<br>Part name=%{x}<br>sum of Number of interesting variants=%{y}<extra></extra>",
         "legendgroup": "fluorophore",
         "marker": {
          "color": "#19d3f3",
          "pattern": {
           "shape": ""
          }
         },
         "name": "fluorophore",
         "offsetgroup": "fluorophore",
         "orientation": "v",
         "showlegend": true,
         "type": "histogram",
         "x": [
          "EGFP",
          "mCherry",
          "EYFP",
          "VC155",
          "Superfolder GFP",
          "Venus",
          "mCitrine",
          "yEGFP",
          "PA GFP"
         ],
         "xaxis": "x",
         "y": [
          4,
          3,
          3,
          2,
          1,
          1,
          1,
          1,
          1
         ],
         "yaxis": "y"
        },
        {
         "alignmentgroup": "True",
         "bingroup": "x",
         "histfunc": "sum",
         "hovertemplate": "category=misc.<br>Part name=%{x}<br>sum of Number of interesting variants=%{y}<extra></extra>",
         "legendgroup": "misc.",
         "marker": {
          "color": "#FF6692",
          "pattern": {
           "shape": ""
          }
         },
         "name": "misc.",
         "offsetgroup": "misc.",
         "orientation": "v",
         "showlegend": true,
         "type": "histogram",
         "x": [
          "gRNA scaffold",
          "bom",
          "MCS",
          "MCS",
          "P03852",
          "IS1",
          "P03265",
          "EGFR",
          "beta globin intron",
          "mini white",
          "Cj gRNA scaffold",
          "chimeric intron",
          "BioBrick suffix",
          "P0DJX0",
          "MBP"
         ],
         "xaxis": "x",
         "y": [
          3,
          3,
          2,
          1,
          1,
          1,
          1,
          1,
          1,
          1,
          1,
          1,
          1,
          1,
          1
         ],
         "yaxis": "y"
        },
        {
         "alignmentgroup": "True",
         "bingroup": "x",
         "histfunc": "sum",
         "hovertemplate": "category=polyA signal<br>Part name=%{x}<br>sum of Number of interesting variants=%{y}<extra></extra>",
         "legendgroup": "polyA signal",
         "marker": {
          "color": "#B6E880",
          "pattern": {
           "shape": ""
          }
         },
         "name": "polyA signal",
         "offsetgroup": "polyA signal",
         "orientation": "v",
         "showlegend": true,
         "type": "histogram",
         "x": [
          "SV40 poly(A) signal",
          "SV40 poly(A) signal",
          "bGH poly(A) signal",
          "VN155(I152L)"
         ],
         "xaxis": "x",
         "y": [
          2,
          2,
          1,
          1
         ],
         "yaxis": "y"
        },
        {
         "alignmentgroup": "True",
         "bingroup": "x",
         "histfunc": "sum",
         "hovertemplate": "category=terminator<br>Part name=%{x}<br>sum of Number of interesting variants=%{y}<extra></extra>",
         "legendgroup": "terminator",
         "marker": {
          "color": "#FF97FF",
          "pattern": {
           "shape": ""
          }
         },
         "name": "terminator",
         "offsetgroup": "terminator",
         "orientation": "v",
         "showlegend": true,
         "type": "histogram",
         "x": [
          "fd terminator",
          "T7 terminator",
          "rrnBterminator",
          "NOS terminator",
          "rrnBterminator",
          "ADH1 terminator",
          "cPPT CTS"
         ],
         "xaxis": "x",
         "y": [
          1,
          1,
          1,
          1,
          1,
          1,
          1
         ],
         "yaxis": "y"
        },
        {
         "alignmentgroup": "True",
         "bingroup": "x",
         "histfunc": "sum",
         "hovertemplate": "category=selection marker<br>Part name=%{x}<br>sum of Number of interesting variants=%{y}<extra></extra>",
         "legendgroup": "selection marker",
         "marker": {
          "color": "#FECB52",
          "pattern": {
           "shape": ""
          }
         },
         "name": "selection marker",
         "offsetgroup": "selection marker",
         "orientation": "v",
         "showlegend": true,
         "type": "histogram",
         "x": [
          "ccdB",
          "URA3"
         ],
         "xaxis": "x",
         "y": [
          1,
          1
         ],
         "yaxis": "y"
        },
        {
         "alignmentgroup": "True",
         "bingroup": "x",
         "histfunc": "sum",
         "hovertemplate": "category=recombination site<br>Part name=%{x}<br>sum of Number of interesting variants=%{y}<extra></extra>",
         "legendgroup": "recombination site",
         "marker": {
          "color": "#636efa",
          "pattern": {
           "shape": ""
          }
         },
         "name": "recombination site",
         "offsetgroup": "recombination site",
         "orientation": "v",
         "showlegend": true,
         "type": "histogram",
         "x": [
          "attB2",
          "attB2",
          "attL1",
          "AAV2 ITR",
          "LTR",
          "attB1",
          "attB3"
         ],
         "xaxis": "x",
         "y": [
          1,
          1,
          1,
          1,
          1,
          1,
          1
         ],
         "yaxis": "y"
        }
       ],
       "layout": {
        "barmode": "relative",
        "height": 515,
        "legend": {
         "title": {
          "text": "category"
         },
         "tracegroupgap": 0
        },
        "margin": {
         "t": 60
        },
        "template": {
         "data": {
          "bar": [
           {
            "error_x": {
             "color": "#2a3f5f"
            },
            "error_y": {
             "color": "#2a3f5f"
            },
            "marker": {
             "line": {
              "color": "white",
              "width": 0.5
             },
             "pattern": {
              "fillmode": "overlay",
              "size": 10,
              "solidity": 0.2
             }
            },
            "type": "bar"
           }
          ],
          "barpolar": [
           {
            "marker": {
             "line": {
              "color": "white",
              "width": 0.5
             },
             "pattern": {
              "fillmode": "overlay",
              "size": 10,
              "solidity": 0.2
             }
            },
            "type": "barpolar"
           }
          ],
          "carpet": [
           {
            "aaxis": {
             "endlinecolor": "#2a3f5f",
             "gridcolor": "#C8D4E3",
             "linecolor": "#C8D4E3",
             "minorgridcolor": "#C8D4E3",
             "startlinecolor": "#2a3f5f"
            },
            "baxis": {
             "endlinecolor": "#2a3f5f",
             "gridcolor": "#C8D4E3",
             "linecolor": "#C8D4E3",
             "minorgridcolor": "#C8D4E3",
             "startlinecolor": "#2a3f5f"
            },
            "type": "carpet"
           }
          ],
          "choropleth": [
           {
            "colorbar": {
             "outlinewidth": 0,
             "ticks": ""
            },
            "type": "choropleth"
           }
          ],
          "contour": [
           {
            "colorbar": {
             "outlinewidth": 0,
             "ticks": ""
            },
            "colorscale": [
             [
              0,
              "#0d0887"
             ],
             [
              0.1111111111111111,
              "#46039f"
             ],
             [
              0.2222222222222222,
              "#7201a8"
             ],
             [
              0.3333333333333333,
              "#9c179e"
             ],
             [
              0.4444444444444444,
              "#bd3786"
             ],
             [
              0.5555555555555556,
              "#d8576b"
             ],
             [
              0.6666666666666666,
              "#ed7953"
             ],
             [
              0.7777777777777778,
              "#fb9f3a"
             ],
             [
              0.8888888888888888,
              "#fdca26"
             ],
             [
              1,
              "#f0f921"
             ]
            ],
            "type": "contour"
           }
          ],
          "contourcarpet": [
           {
            "colorbar": {
             "outlinewidth": 0,
             "ticks": ""
            },
            "type": "contourcarpet"
           }
          ],
          "heatmap": [
           {
            "colorbar": {
             "outlinewidth": 0,
             "ticks": ""
            },
            "colorscale": [
             [
              0,
              "#0d0887"
             ],
             [
              0.1111111111111111,
              "#46039f"
             ],
             [
              0.2222222222222222,
              "#7201a8"
             ],
             [
              0.3333333333333333,
              "#9c179e"
             ],
             [
              0.4444444444444444,
              "#bd3786"
             ],
             [
              0.5555555555555556,
              "#d8576b"
             ],
             [
              0.6666666666666666,
              "#ed7953"
             ],
             [
              0.7777777777777778,
              "#fb9f3a"
             ],
             [
              0.8888888888888888,
              "#fdca26"
             ],
             [
              1,
              "#f0f921"
             ]
            ],
            "type": "heatmap"
           }
          ],
          "heatmapgl": [
           {
            "colorbar": {
             "outlinewidth": 0,
             "ticks": ""
            },
            "colorscale": [
             [
              0,
              "#0d0887"
             ],
             [
              0.1111111111111111,
              "#46039f"
             ],
             [
              0.2222222222222222,
              "#7201a8"
             ],
             [
              0.3333333333333333,
              "#9c179e"
             ],
             [
              0.4444444444444444,
              "#bd3786"
             ],
             [
              0.5555555555555556,
              "#d8576b"
             ],
             [
              0.6666666666666666,
              "#ed7953"
             ],
             [
              0.7777777777777778,
              "#fb9f3a"
             ],
             [
              0.8888888888888888,
              "#fdca26"
             ],
             [
              1,
              "#f0f921"
             ]
            ],
            "type": "heatmapgl"
           }
          ],
          "histogram": [
           {
            "marker": {
             "pattern": {
              "fillmode": "overlay",
              "size": 10,
              "solidity": 0.2
             }
            },
            "type": "histogram"
           }
          ],
          "histogram2d": [
           {
            "colorbar": {
             "outlinewidth": 0,
             "ticks": ""
            },
            "colorscale": [
             [
              0,
              "#0d0887"
             ],
             [
              0.1111111111111111,
              "#46039f"
             ],
             [
              0.2222222222222222,
              "#7201a8"
             ],
             [
              0.3333333333333333,
              "#9c179e"
             ],
             [
              0.4444444444444444,
              "#bd3786"
             ],
             [
              0.5555555555555556,
              "#d8576b"
             ],
             [
              0.6666666666666666,
              "#ed7953"
             ],
             [
              0.7777777777777778,
              "#fb9f3a"
             ],
             [
              0.8888888888888888,
              "#fdca26"
             ],
             [
              1,
              "#f0f921"
             ]
            ],
            "type": "histogram2d"
           }
          ],
          "histogram2dcontour": [
           {
            "colorbar": {
             "outlinewidth": 0,
             "ticks": ""
            },
            "colorscale": [
             [
              0,
              "#0d0887"
             ],
             [
              0.1111111111111111,
              "#46039f"
             ],
             [
              0.2222222222222222,
              "#7201a8"
             ],
             [
              0.3333333333333333,
              "#9c179e"
             ],
             [
              0.4444444444444444,
              "#bd3786"
             ],
             [
              0.5555555555555556,
              "#d8576b"
             ],
             [
              0.6666666666666666,
              "#ed7953"
             ],
             [
              0.7777777777777778,
              "#fb9f3a"
             ],
             [
              0.8888888888888888,
              "#fdca26"
             ],
             [
              1,
              "#f0f921"
             ]
            ],
            "type": "histogram2dcontour"
           }
          ],
          "mesh3d": [
           {
            "colorbar": {
             "outlinewidth": 0,
             "ticks": ""
            },
            "type": "mesh3d"
           }
          ],
          "parcoords": [
           {
            "line": {
             "colorbar": {
              "outlinewidth": 0,
              "ticks": ""
             }
            },
            "type": "parcoords"
           }
          ],
          "pie": [
           {
            "automargin": true,
            "type": "pie"
           }
          ],
          "scatter": [
           {
            "marker": {
             "colorbar": {
              "outlinewidth": 0,
              "ticks": ""
             }
            },
            "type": "scatter"
           }
          ],
          "scatter3d": [
           {
            "line": {
             "colorbar": {
              "outlinewidth": 0,
              "ticks": ""
             }
            },
            "marker": {
             "colorbar": {
              "outlinewidth": 0,
              "ticks": ""
             }
            },
            "type": "scatter3d"
           }
          ],
          "scattercarpet": [
           {
            "marker": {
             "colorbar": {
              "outlinewidth": 0,
              "ticks": ""
             }
            },
            "type": "scattercarpet"
           }
          ],
          "scattergeo": [
           {
            "marker": {
             "colorbar": {
              "outlinewidth": 0,
              "ticks": ""
             }
            },
            "type": "scattergeo"
           }
          ],
          "scattergl": [
           {
            "marker": {
             "colorbar": {
              "outlinewidth": 0,
              "ticks": ""
             }
            },
            "type": "scattergl"
           }
          ],
          "scattermapbox": [
           {
            "marker": {
             "colorbar": {
              "outlinewidth": 0,
              "ticks": ""
             }
            },
            "type": "scattermapbox"
           }
          ],
          "scatterpolar": [
           {
            "marker": {
             "colorbar": {
              "outlinewidth": 0,
              "ticks": ""
             }
            },
            "type": "scatterpolar"
           }
          ],
          "scatterpolargl": [
           {
            "marker": {
             "colorbar": {
              "outlinewidth": 0,
              "ticks": ""
             }
            },
            "type": "scatterpolargl"
           }
          ],
          "scatterternary": [
           {
            "marker": {
             "colorbar": {
              "outlinewidth": 0,
              "ticks": ""
             }
            },
            "type": "scatterternary"
           }
          ],
          "surface": [
           {
            "colorbar": {
             "outlinewidth": 0,
             "ticks": ""
            },
            "colorscale": [
             [
              0,
              "#0d0887"
             ],
             [
              0.1111111111111111,
              "#46039f"
             ],
             [
              0.2222222222222222,
              "#7201a8"
             ],
             [
              0.3333333333333333,
              "#9c179e"
             ],
             [
              0.4444444444444444,
              "#bd3786"
             ],
             [
              0.5555555555555556,
              "#d8576b"
             ],
             [
              0.6666666666666666,
              "#ed7953"
             ],
             [
              0.7777777777777778,
              "#fb9f3a"
             ],
             [
              0.8888888888888888,
              "#fdca26"
             ],
             [
              1,
              "#f0f921"
             ]
            ],
            "type": "surface"
           }
          ],
          "table": [
           {
            "cells": {
             "fill": {
              "color": "#EBF0F8"
             },
             "line": {
              "color": "white"
             }
            },
            "header": {
             "fill": {
              "color": "#C8D4E3"
             },
             "line": {
              "color": "white"
             }
            },
            "type": "table"
           }
          ]
         },
         "layout": {
          "annotationdefaults": {
           "arrowcolor": "#2a3f5f",
           "arrowhead": 0,
           "arrowwidth": 1
          },
          "autotypenumbers": "strict",
          "coloraxis": {
           "colorbar": {
            "outlinewidth": 0,
            "ticks": ""
           }
          },
          "colorscale": {
           "diverging": [
            [
             0,
             "#8e0152"
            ],
            [
             0.1,
             "#c51b7d"
            ],
            [
             0.2,
             "#de77ae"
            ],
            [
             0.3,
             "#f1b6da"
            ],
            [
             0.4,
             "#fde0ef"
            ],
            [
             0.5,
             "#f7f7f7"
            ],
            [
             0.6,
             "#e6f5d0"
            ],
            [
             0.7,
             "#b8e186"
            ],
            [
             0.8,
             "#7fbc41"
            ],
            [
             0.9,
             "#4d9221"
            ],
            [
             1,
             "#276419"
            ]
           ],
           "sequential": [
            [
             0,
             "#0d0887"
            ],
            [
             0.1111111111111111,
             "#46039f"
            ],
            [
             0.2222222222222222,
             "#7201a8"
            ],
            [
             0.3333333333333333,
             "#9c179e"
            ],
            [
             0.4444444444444444,
             "#bd3786"
            ],
            [
             0.5555555555555556,
             "#d8576b"
            ],
            [
             0.6666666666666666,
             "#ed7953"
            ],
            [
             0.7777777777777778,
             "#fb9f3a"
            ],
            [
             0.8888888888888888,
             "#fdca26"
            ],
            [
             1,
             "#f0f921"
            ]
           ],
           "sequentialminus": [
            [
             0,
             "#0d0887"
            ],
            [
             0.1111111111111111,
             "#46039f"
            ],
            [
             0.2222222222222222,
             "#7201a8"
            ],
            [
             0.3333333333333333,
             "#9c179e"
            ],
            [
             0.4444444444444444,
             "#bd3786"
            ],
            [
             0.5555555555555556,
             "#d8576b"
            ],
            [
             0.6666666666666666,
             "#ed7953"
            ],
            [
             0.7777777777777778,
             "#fb9f3a"
            ],
            [
             0.8888888888888888,
             "#fdca26"
            ],
            [
             1,
             "#f0f921"
            ]
           ]
          },
          "colorway": [
           "#636efa",
           "#EF553B",
           "#00cc96",
           "#ab63fa",
           "#FFA15A",
           "#19d3f3",
           "#FF6692",
           "#B6E880",
           "#FF97FF",
           "#FECB52"
          ],
          "font": {
           "color": "#2a3f5f"
          },
          "geo": {
           "bgcolor": "white",
           "lakecolor": "white",
           "landcolor": "white",
           "showlakes": true,
           "showland": true,
           "subunitcolor": "#C8D4E3"
          },
          "hoverlabel": {
           "align": "left"
          },
          "hovermode": "closest",
          "mapbox": {
           "style": "light"
          },
          "paper_bgcolor": "white",
          "plot_bgcolor": "white",
          "polar": {
           "angularaxis": {
            "gridcolor": "#EBF0F8",
            "linecolor": "#EBF0F8",
            "ticks": ""
           },
           "bgcolor": "white",
           "radialaxis": {
            "gridcolor": "#EBF0F8",
            "linecolor": "#EBF0F8",
            "ticks": ""
           }
          },
          "scene": {
           "xaxis": {
            "backgroundcolor": "white",
            "gridcolor": "#DFE8F3",
            "gridwidth": 2,
            "linecolor": "#EBF0F8",
            "showbackground": true,
            "ticks": "",
            "zerolinecolor": "#EBF0F8"
           },
           "yaxis": {
            "backgroundcolor": "white",
            "gridcolor": "#DFE8F3",
            "gridwidth": 2,
            "linecolor": "#EBF0F8",
            "showbackground": true,
            "ticks": "",
            "zerolinecolor": "#EBF0F8"
           },
           "zaxis": {
            "backgroundcolor": "white",
            "gridcolor": "#DFE8F3",
            "gridwidth": 2,
            "linecolor": "#EBF0F8",
            "showbackground": true,
            "ticks": "",
            "zerolinecolor": "#EBF0F8"
           }
          },
          "shapedefaults": {
           "line": {
            "color": "#2a3f5f"
           }
          },
          "ternary": {
           "aaxis": {
            "gridcolor": "#DFE8F3",
            "linecolor": "#A2B1C6",
            "ticks": ""
           },
           "baxis": {
            "gridcolor": "#DFE8F3",
            "linecolor": "#A2B1C6",
            "ticks": ""
           },
           "bgcolor": "white",
           "caxis": {
            "gridcolor": "#DFE8F3",
            "linecolor": "#A2B1C6",
            "ticks": ""
           }
          },
          "title": {
           "x": 0.05
          },
          "xaxis": {
           "automargin": true,
           "gridcolor": "#EBF0F8",
           "linecolor": "#EBF0F8",
           "ticks": "",
           "title": {
            "standoff": 15
           },
           "zerolinecolor": "#EBF0F8",
           "zerolinewidth": 2
          },
          "yaxis": {
           "automargin": true,
           "gridcolor": "#EBF0F8",
           "linecolor": "#EBF0F8",
           "ticks": "",
           "title": {
            "standoff": 15
           },
           "zerolinecolor": "#EBF0F8",
           "zerolinewidth": 2
          }
         }
        },
        "width": 1450,
        "xaxis": {
         "anchor": "y",
         "domain": [
          0,
          1
         ],
         "title": {
          "text": "Part name"
         }
        },
        "yaxis": {
         "anchor": "x",
         "domain": [
          0,
          1
         ],
         "range": [
          -0.30102999566398114,
          1.8129133566428552
         ],
         "tickmode": "array",
         "tickvals": [
          1,
          2,
          4,
          8,
          16,
          32,
          64
         ],
         "title": {
          "text": " Number of interesting variants"
         },
         "type": "log"
        }
       }
      }
     },
     "metadata": {},
     "output_type": "display_data"
    }
   ],
   "source": [
    "voi['category_size'] = voi.groupby([\"sseqid\"])[\"sseqid\"].transform(\"count\")#.sort_values(ascending=False)\n",
    "#voi['category_size_method'] = voi.groupby([\"sseqid\",\"categorization_method\"])[\"categorization_method\"].transform(\"count\")#.sort_values(ascending=False)\n",
    "\n",
    "cols = [\"sseqid\", \"Type\",'category', 'category_size'] # 'category_size_method' 'categorization_method', \n",
    "plot = voi[cols].drop_duplicates().sort_values(by=['category_size'], ascending=[False])\n",
    "\n",
    "plot['sseqid_clean'] = plot['sseqid'].str.replace(\"___\", \" \").str.replace(\"_\", \" \").str.replace(\" .(\\d+.)\", \"\", regex=True)\n",
    "plot['sseqid_clean'] = plot['sseqid_clean'].replace({'ori':'ColE1 origin of replication'})\n",
    "\n",
    "\n",
    "fig = px.histogram(plot,\n",
    "       x=\"sseqid_clean\",\n",
    "       y=\"category_size\",\n",
    "       # facet_col='category',\n",
    "       # facet_col_wrap=3,\n",
    "       color=\"category\",\n",
    "       log_y=True,\n",
    "       height=515,\n",
    "       width=1450,\n",
    "       template='plotly_white',\n",
    "       labels={'sseqid_clean': 'Part name',\n",
    "               'category_size': 'Number of interesting variants'},\n",
    "       range_y=[.5,65]\n",
    "       #hover_data=['categorization_method'],\n",
    ")\n",
    "\n",
    "fig.for_each_yaxis(lambda a: a.update(title_text=a.title.text.replace(\"sum of\", \"\")))\n",
    "fig.update_layout(\n",
    "    yaxis = dict(\n",
    "        tickmode = 'array',\n",
    "        tickvals = [1, 2, 4, 8, 16, 32, 64],\n",
    "    )\n",
    ")\n",
    "\n",
    "# fig.write_image(\"../out_data/figures/voi_all.svg\")\n",
    "\n",
    "fig\n"
   ]
  }
 ],
 "metadata": {
  "kernelspec": {
   "display_name": "Python 3.9.9 ('base')",
   "language": "python",
   "name": "python3"
  },
  "language_info": {
   "codemirror_mode": {
    "name": "ipython",
    "version": 3
   },
   "file_extension": ".py",
   "mimetype": "text/x-python",
   "name": "python",
   "nbconvert_exporter": "python",
   "pygments_lexer": "ipython3",
   "version": "3.9.9"
  },
  "orig_nbformat": 4,
  "vscode": {
   "interpreter": {
    "hash": "556c7d952b8d06ecf369172b0a47886f0124839a29c84d4f2c6d8cacababa894"
   }
  }
 },
 "nbformat": 4,
 "nbformat_minor": 2
}
